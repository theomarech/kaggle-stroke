{
 "cells": [
  {
   "cell_type": "code",
   "execution_count": 9,
   "id": "4dc9c79a-e3f0-4fcc-876d-b9d90c255322",
   "metadata": {},
   "outputs": [],
   "source": [
    "library(missForest)\n",
    "library(dplyr)\n",
    "library(data.table)\n",
    "library(readr)\n",
    "library(stringr)\n"
   ]
  },
  {
   "cell_type": "code",
   "execution_count": 15,
   "id": "9cdafd2d-a2db-4244-bfe0-30590a74037f",
   "metadata": {},
   "outputs": [
    {
     "ename": "ERROR",
     "evalue": "Error in as.environment(pos): no item called \"/home/theo/Desktop/auto_formation_data/kaggle/Stroke/dataset\" on the search list\n",
     "output_type": "error",
     "traceback": [
      "Error in as.environment(pos): no item called \"/home/theo/Desktop/auto_formation_data/kaggle/Stroke/dataset\" on the search list\nTraceback:\n",
      "1. ls(str_replace(getwd(), \"notebook\", \"dataset\"))"
     ]
    }
   ],
   "source": [
    "ls(str_replace(getwd(),'notebook','dataset'))"
   ]
  }
 ],
 "metadata": {
  "kernelspec": {
   "display_name": "Python 3",
   "language": "python",
   "name": "python3"
  },
  "language_info": {
   "codemirror_mode": {
    "name": "ipython",
    "version": 3
   },
   "file_extension": ".py",
   "mimetype": "text/x-python",
   "name": "python",
   "nbconvert_exporter": "python",
   "pygments_lexer": "ipython3",
   "version": "3.9.5"
  }
 },
 "nbformat": 4,
 "nbformat_minor": 5
}
